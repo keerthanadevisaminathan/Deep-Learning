{
  "nbformat": 4,
  "nbformat_minor": 0,
  "metadata": {
    "colab": {
      "provenance": [],
      "authorship_tag": "ABX9TyONyuaKVFutUOdjUce8zy0h",
      "include_colab_link": true
    },
    "kernelspec": {
      "name": "python3",
      "display_name": "Python 3"
    },
    "language_info": {
      "name": "python"
    }
  },
  "cells": [
    {
      "cell_type": "markdown",
      "metadata": {
        "id": "view-in-github",
        "colab_type": "text"
      },
      "source": [
        "<a href=\"https://colab.research.google.com/github/keerthanadevisaminathan/Deep-Learning/blob/main/Neural_network_Pytarch.ipynb\" target=\"_parent\"><img src=\"https://colab.research.google.com/assets/colab-badge.svg\" alt=\"Open In Colab\"/></a>"
      ]
    },
    {
      "cell_type": "code",
      "execution_count": 1,
      "metadata": {
        "id": "EL5nVDaXmbtd"
      },
      "outputs": [],
      "source": [
        "import torch\n",
        "import torchvision.datasets as datasets\n",
        "import torchvision.transforms as transforms\n",
        "import torch.nn as nn\n",
        "import torch.optim as optim"
      ]
    },
    {
      "cell_type": "code",
      "source": [
        "transform=transforms.Compose([transforms.ToTensor(),transforms.Normalize((0.1307,),(0.3081))])"
      ],
      "metadata": {
        "id": "zocIzXUinYvY"
      },
      "execution_count": 3,
      "outputs": []
    },
    {
      "cell_type": "code",
      "source": [
        "train_dataset=datasets.MNIST('data',train=True,download=True,transform=transform)"
      ],
      "metadata": {
        "colab": {
          "base_uri": "https://localhost:8080/"
        },
        "id": "IiBMcQPXoqG4",
        "outputId": "ee042301-5421-402d-b29f-e83d1642158a"
      },
      "execution_count": 4,
      "outputs": [
        {
          "output_type": "stream",
          "name": "stdout",
          "text": [
            "Downloading http://yann.lecun.com/exdb/mnist/train-images-idx3-ubyte.gz\n",
            "Downloading http://yann.lecun.com/exdb/mnist/train-images-idx3-ubyte.gz to data/MNIST/raw/train-images-idx3-ubyte.gz\n"
          ]
        },
        {
          "output_type": "stream",
          "name": "stderr",
          "text": [
            "100%|██████████| 9912422/9912422 [00:00<00:00, 113162287.44it/s]\n"
          ]
        },
        {
          "output_type": "stream",
          "name": "stdout",
          "text": [
            "Extracting data/MNIST/raw/train-images-idx3-ubyte.gz to data/MNIST/raw\n",
            "\n",
            "Downloading http://yann.lecun.com/exdb/mnist/train-labels-idx1-ubyte.gz\n",
            "Downloading http://yann.lecun.com/exdb/mnist/train-labels-idx1-ubyte.gz to data/MNIST/raw/train-labels-idx1-ubyte.gz\n"
          ]
        },
        {
          "output_type": "stream",
          "name": "stderr",
          "text": [
            "100%|██████████| 28881/28881 [00:00<00:00, 15626379.49it/s]\n"
          ]
        },
        {
          "output_type": "stream",
          "name": "stdout",
          "text": [
            "Extracting data/MNIST/raw/train-labels-idx1-ubyte.gz to data/MNIST/raw\n",
            "\n",
            "Downloading http://yann.lecun.com/exdb/mnist/t10k-images-idx3-ubyte.gz\n",
            "Downloading http://yann.lecun.com/exdb/mnist/t10k-images-idx3-ubyte.gz to data/MNIST/raw/t10k-images-idx3-ubyte.gz\n"
          ]
        },
        {
          "output_type": "stream",
          "name": "stderr",
          "text": [
            "100%|██████████| 1648877/1648877 [00:00<00:00, 30216100.93it/s]\n"
          ]
        },
        {
          "output_type": "stream",
          "name": "stdout",
          "text": [
            "Extracting data/MNIST/raw/t10k-images-idx3-ubyte.gz to data/MNIST/raw\n",
            "\n",
            "Downloading http://yann.lecun.com/exdb/mnist/t10k-labels-idx1-ubyte.gz\n",
            "Downloading http://yann.lecun.com/exdb/mnist/t10k-labels-idx1-ubyte.gz to data/MNIST/raw/t10k-labels-idx1-ubyte.gz\n"
          ]
        },
        {
          "output_type": "stream",
          "name": "stderr",
          "text": [
            "100%|██████████| 4542/4542 [00:00<00:00, 5410544.95it/s]\n"
          ]
        },
        {
          "output_type": "stream",
          "name": "stdout",
          "text": [
            "Extracting data/MNIST/raw/t10k-labels-idx1-ubyte.gz to data/MNIST/raw\n",
            "\n"
          ]
        }
      ]
    },
    {
      "cell_type": "code",
      "source": [
        "train_loader=torch.utils.data.DataLoader(train_dataset,batch_size=64,shuffle=True)"
      ],
      "metadata": {
        "id": "bdCRgpiGqXnO"
      },
      "execution_count": 5,
      "outputs": []
    },
    {
      "cell_type": "code",
      "source": [
        "class Neural(nn.Module):\n",
        "  def __init__(self):\n",
        "    super(Neural,self).__init__()\n",
        "    self.fc1=nn.Linear(28*28,128)\n",
        "    self.fc2=nn.Linear(128,10)\n",
        "  def forward(self,x):\n",
        "    x=x.view(-1,28*28)\n",
        "    x=torch.relu(self.fc1(x))\n",
        "    x=self.fc2(x)\n",
        "    return x\n",
        "net=Neural()"
      ],
      "metadata": {
        "id": "pZdpcqp5qvuq"
      },
      "execution_count": 7,
      "outputs": []
    },
    {
      "cell_type": "code",
      "source": [
        "criterion=nn.CrossEntropyLoss()\n",
        "optimizer=optim.SGD(net.parameters(),lr=0.01,momentum=0.5)"
      ],
      "metadata": {
        "id": "4gGXizd50kJY"
      },
      "execution_count": 8,
      "outputs": []
    },
    {
      "cell_type": "code",
      "source": [
        "num_epochs=10\n",
        "for epoch in range(num_epochs):\n",
        "  for batch_idx,(data,target) in enumerate (train_loader):\n",
        "    optimizer.zero_grad()\n",
        "    output=net(data)\n",
        "    loss =criterion(output,target)\n",
        "    loss.backward()\n",
        "    optimizer.step()\n",
        "    if batch_idx % 100==0:\n",
        "      print('Train Epoch: {} [{}/{} ({:.0f}%)]\\tLoss: {:.6f}'.format(\n",
        "                epoch, batch_idx * len(data), len(train_loader.dataset),\n",
        "                100. * batch_idx / len(train_loader), loss.item()))"
      ],
      "metadata": {
        "colab": {
          "base_uri": "https://localhost:8080/"
        },
        "id": "-Tdkj_VX1fkZ",
        "outputId": "3dcb6f85-aa83-41bd-8ae2-9a2280a9e229"
      },
      "execution_count": 9,
      "outputs": [
        {
          "output_type": "stream",
          "name": "stdout",
          "text": [
            "Train Epoch: 0 [0/60000 (0%)]\tLoss: 2.263332\n",
            "Train Epoch: 0 [6400/60000 (11%)]\tLoss: 0.617533\n",
            "Train Epoch: 0 [12800/60000 (21%)]\tLoss: 0.370554\n",
            "Train Epoch: 0 [19200/60000 (32%)]\tLoss: 0.379031\n",
            "Train Epoch: 0 [25600/60000 (43%)]\tLoss: 0.526598\n",
            "Train Epoch: 0 [32000/60000 (53%)]\tLoss: 0.308618\n",
            "Train Epoch: 0 [38400/60000 (64%)]\tLoss: 0.226219\n",
            "Train Epoch: 0 [44800/60000 (75%)]\tLoss: 0.322005\n",
            "Train Epoch: 0 [51200/60000 (85%)]\tLoss: 0.243256\n",
            "Train Epoch: 0 [57600/60000 (96%)]\tLoss: 0.369095\n",
            "Train Epoch: 1 [0/60000 (0%)]\tLoss: 0.265449\n",
            "Train Epoch: 1 [6400/60000 (11%)]\tLoss: 0.206467\n",
            "Train Epoch: 1 [12800/60000 (21%)]\tLoss: 0.203468\n",
            "Train Epoch: 1 [19200/60000 (32%)]\tLoss: 0.212202\n",
            "Train Epoch: 1 [25600/60000 (43%)]\tLoss: 0.346230\n",
            "Train Epoch: 1 [32000/60000 (53%)]\tLoss: 0.217976\n",
            "Train Epoch: 1 [38400/60000 (64%)]\tLoss: 0.132460\n",
            "Train Epoch: 1 [44800/60000 (75%)]\tLoss: 0.316388\n",
            "Train Epoch: 1 [51200/60000 (85%)]\tLoss: 0.192157\n",
            "Train Epoch: 1 [57600/60000 (96%)]\tLoss: 0.228514\n",
            "Train Epoch: 2 [0/60000 (0%)]\tLoss: 0.269610\n",
            "Train Epoch: 2 [6400/60000 (11%)]\tLoss: 0.157648\n",
            "Train Epoch: 2 [12800/60000 (21%)]\tLoss: 0.407466\n",
            "Train Epoch: 2 [19200/60000 (32%)]\tLoss: 0.207152\n",
            "Train Epoch: 2 [25600/60000 (43%)]\tLoss: 0.249533\n",
            "Train Epoch: 2 [32000/60000 (53%)]\tLoss: 0.122846\n",
            "Train Epoch: 2 [38400/60000 (64%)]\tLoss: 0.171269\n",
            "Train Epoch: 2 [44800/60000 (75%)]\tLoss: 0.206149\n",
            "Train Epoch: 2 [51200/60000 (85%)]\tLoss: 0.134638\n",
            "Train Epoch: 2 [57600/60000 (96%)]\tLoss: 0.191590\n",
            "Train Epoch: 3 [0/60000 (0%)]\tLoss: 0.256812\n",
            "Train Epoch: 3 [6400/60000 (11%)]\tLoss: 0.063873\n",
            "Train Epoch: 3 [12800/60000 (21%)]\tLoss: 0.248305\n",
            "Train Epoch: 3 [19200/60000 (32%)]\tLoss: 0.102273\n",
            "Train Epoch: 3 [25600/60000 (43%)]\tLoss: 0.187745\n",
            "Train Epoch: 3 [32000/60000 (53%)]\tLoss: 0.211119\n",
            "Train Epoch: 3 [38400/60000 (64%)]\tLoss: 0.109433\n",
            "Train Epoch: 3 [44800/60000 (75%)]\tLoss: 0.156631\n",
            "Train Epoch: 3 [51200/60000 (85%)]\tLoss: 0.155111\n",
            "Train Epoch: 3 [57600/60000 (96%)]\tLoss: 0.182283\n",
            "Train Epoch: 4 [0/60000 (0%)]\tLoss: 0.257682\n",
            "Train Epoch: 4 [6400/60000 (11%)]\tLoss: 0.098253\n",
            "Train Epoch: 4 [12800/60000 (21%)]\tLoss: 0.064432\n",
            "Train Epoch: 4 [19200/60000 (32%)]\tLoss: 0.174904\n",
            "Train Epoch: 4 [25600/60000 (43%)]\tLoss: 0.162761\n",
            "Train Epoch: 4 [32000/60000 (53%)]\tLoss: 0.064294\n",
            "Train Epoch: 4 [38400/60000 (64%)]\tLoss: 0.127910\n",
            "Train Epoch: 4 [44800/60000 (75%)]\tLoss: 0.120616\n",
            "Train Epoch: 4 [51200/60000 (85%)]\tLoss: 0.281512\n",
            "Train Epoch: 4 [57600/60000 (96%)]\tLoss: 0.141892\n",
            "Train Epoch: 5 [0/60000 (0%)]\tLoss: 0.064389\n",
            "Train Epoch: 5 [6400/60000 (11%)]\tLoss: 0.123935\n",
            "Train Epoch: 5 [12800/60000 (21%)]\tLoss: 0.063202\n",
            "Train Epoch: 5 [19200/60000 (32%)]\tLoss: 0.121192\n",
            "Train Epoch: 5 [25600/60000 (43%)]\tLoss: 0.071162\n",
            "Train Epoch: 5 [32000/60000 (53%)]\tLoss: 0.151886\n",
            "Train Epoch: 5 [38400/60000 (64%)]\tLoss: 0.179167\n",
            "Train Epoch: 5 [44800/60000 (75%)]\tLoss: 0.232720\n",
            "Train Epoch: 5 [51200/60000 (85%)]\tLoss: 0.181189\n",
            "Train Epoch: 5 [57600/60000 (96%)]\tLoss: 0.074628\n",
            "Train Epoch: 6 [0/60000 (0%)]\tLoss: 0.160889\n",
            "Train Epoch: 6 [6400/60000 (11%)]\tLoss: 0.118558\n",
            "Train Epoch: 6 [12800/60000 (21%)]\tLoss: 0.114080\n",
            "Train Epoch: 6 [19200/60000 (32%)]\tLoss: 0.113487\n",
            "Train Epoch: 6 [25600/60000 (43%)]\tLoss: 0.068274\n",
            "Train Epoch: 6 [32000/60000 (53%)]\tLoss: 0.078172\n",
            "Train Epoch: 6 [38400/60000 (64%)]\tLoss: 0.281547\n",
            "Train Epoch: 6 [44800/60000 (75%)]\tLoss: 0.052159\n",
            "Train Epoch: 6 [51200/60000 (85%)]\tLoss: 0.054489\n",
            "Train Epoch: 6 [57600/60000 (96%)]\tLoss: 0.076390\n",
            "Train Epoch: 7 [0/60000 (0%)]\tLoss: 0.091250\n",
            "Train Epoch: 7 [6400/60000 (11%)]\tLoss: 0.066278\n",
            "Train Epoch: 7 [12800/60000 (21%)]\tLoss: 0.035213\n",
            "Train Epoch: 7 [19200/60000 (32%)]\tLoss: 0.070730\n",
            "Train Epoch: 7 [25600/60000 (43%)]\tLoss: 0.049193\n",
            "Train Epoch: 7 [32000/60000 (53%)]\tLoss: 0.125501\n",
            "Train Epoch: 7 [38400/60000 (64%)]\tLoss: 0.063973\n",
            "Train Epoch: 7 [44800/60000 (75%)]\tLoss: 0.168836\n",
            "Train Epoch: 7 [51200/60000 (85%)]\tLoss: 0.056926\n",
            "Train Epoch: 7 [57600/60000 (96%)]\tLoss: 0.045185\n",
            "Train Epoch: 8 [0/60000 (0%)]\tLoss: 0.065040\n",
            "Train Epoch: 8 [6400/60000 (11%)]\tLoss: 0.111918\n",
            "Train Epoch: 8 [12800/60000 (21%)]\tLoss: 0.070179\n",
            "Train Epoch: 8 [19200/60000 (32%)]\tLoss: 0.056455\n",
            "Train Epoch: 8 [25600/60000 (43%)]\tLoss: 0.059240\n",
            "Train Epoch: 8 [32000/60000 (53%)]\tLoss: 0.034293\n",
            "Train Epoch: 8 [38400/60000 (64%)]\tLoss: 0.052289\n",
            "Train Epoch: 8 [44800/60000 (75%)]\tLoss: 0.048346\n",
            "Train Epoch: 8 [51200/60000 (85%)]\tLoss: 0.079561\n",
            "Train Epoch: 8 [57600/60000 (96%)]\tLoss: 0.075745\n",
            "Train Epoch: 9 [0/60000 (0%)]\tLoss: 0.032042\n",
            "Train Epoch: 9 [6400/60000 (11%)]\tLoss: 0.050544\n",
            "Train Epoch: 9 [12800/60000 (21%)]\tLoss: 0.062151\n",
            "Train Epoch: 9 [19200/60000 (32%)]\tLoss: 0.030946\n",
            "Train Epoch: 9 [25600/60000 (43%)]\tLoss: 0.096116\n",
            "Train Epoch: 9 [32000/60000 (53%)]\tLoss: 0.087943\n",
            "Train Epoch: 9 [38400/60000 (64%)]\tLoss: 0.040134\n",
            "Train Epoch: 9 [44800/60000 (75%)]\tLoss: 0.057282\n",
            "Train Epoch: 9 [51200/60000 (85%)]\tLoss: 0.060413\n",
            "Train Epoch: 9 [57600/60000 (96%)]\tLoss: 0.101556\n"
          ]
        }
      ]
    },
    {
      "cell_type": "code",
      "source": [
        "test_dataset=datasets.MNIST('data',train=False,download=True,transform=transform)\n",
        "test_loader=torch.utils.data.DataLoader(test_dataset,batch_size=1000,shuffle=True)\n",
        "correct=0\n",
        "total=0\n",
        "with torch.no_grad():\n",
        "  output=net(data)\n",
        "  _,predicted=torch.max(output.data,1)\n",
        "  total+=target.size(0)\n",
        "  correct+=(predicted==target).sum().item()"
      ],
      "metadata": {
        "id": "JIHA3RmN1zL5"
      },
      "execution_count": 10,
      "outputs": []
    },
    {
      "cell_type": "code",
      "source": [
        "print('Accuracy of the network on the 10000 test images: %d %%' % (\n",
        "    100 * correct / total))"
      ],
      "metadata": {
        "colab": {
          "base_uri": "https://localhost:8080/"
        },
        "id": "abuCGsxN1389",
        "outputId": "5d40e5f2-35e7-437f-f76e-0815324b4219"
      },
      "execution_count": 11,
      "outputs": [
        {
          "output_type": "stream",
          "name": "stdout",
          "text": [
            "Accuracy of the network on the 10000 test images: 100 %\n"
          ]
        }
      ]
    },
    {
      "cell_type": "code",
      "source": [],
      "metadata": {
        "id": "JZ0kKf-12n4s"
      },
      "execution_count": null,
      "outputs": []
    }
  ]
}