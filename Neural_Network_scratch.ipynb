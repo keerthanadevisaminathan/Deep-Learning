{
  "nbformat": 4,
  "nbformat_minor": 0,
  "metadata": {
    "colab": {
      "provenance": [],
      "authorship_tag": "ABX9TyM4EvXJKIrUpLn9JTiGcJkX",
      "include_colab_link": true
    },
    "kernelspec": {
      "name": "python3",
      "display_name": "Python 3"
    },
    "language_info": {
      "name": "python"
    }
  },
  "cells": [
    {
      "cell_type": "markdown",
      "metadata": {
        "id": "view-in-github",
        "colab_type": "text"
      },
      "source": [
        "<a href=\"https://colab.research.google.com/github/keerthanadevisaminathan/Deep-Learning/blob/main/Neural_Network_scratch.ipynb\" target=\"_parent\"><img src=\"https://colab.research.google.com/assets/colab-badge.svg\" alt=\"Open In Colab\"/></a>"
      ]
    },
    {
      "cell_type": "code",
      "execution_count": 1,
      "metadata": {
        "id": "AGsRBbyyR9xZ"
      },
      "outputs": [],
      "source": [
        "import numpy as np"
      ]
    },
    {
      "cell_type": "code",
      "source": [
        "x=np.array([[1,0,1,0],[1,0,1,1],[0,1,0,1]])\n",
        "x"
      ],
      "metadata": {
        "colab": {
          "base_uri": "https://localhost:8080/"
        },
        "id": "6AtmWWC_StMg",
        "outputId": "89f6e2d4-c87c-4fc7-ffe5-432da5816627"
      },
      "execution_count": 4,
      "outputs": [
        {
          "output_type": "execute_result",
          "data": {
            "text/plain": [
              "array([[1, 0, 1, 0],\n",
              "       [1, 0, 1, 1],\n",
              "       [0, 1, 0, 1]])"
            ]
          },
          "metadata": {},
          "execution_count": 4
        }
      ]
    },
    {
      "cell_type": "code",
      "source": [
        "y=np.array([[1],[0],[1]])\n",
        "y"
      ],
      "metadata": {
        "colab": {
          "base_uri": "https://localhost:8080/"
        },
        "id": "LL2X6mIUS0-t",
        "outputId": "be266ef6-c96a-40fc-c269-20bf18975fe8"
      },
      "execution_count": 6,
      "outputs": [
        {
          "output_type": "execute_result",
          "data": {
            "text/plain": [
              "array([[1],\n",
              "       [0],\n",
              "       [1]])"
            ]
          },
          "metadata": {},
          "execution_count": 6
        }
      ]
    },
    {
      "cell_type": "markdown",
      "source": [
        "**Create a Sigmoid** **Function**"
      ],
      "metadata": {
        "id": "7ATbgt5UTfpX"
      }
    },
    {
      "cell_type": "code",
      "source": [
        "def sigmoid(x):\n",
        "  return 1/(1+np.exp(-x))"
      ],
      "metadata": {
        "id": "-gL5vd_5TPG7"
      },
      "execution_count": 7,
      "outputs": []
    },
    {
      "cell_type": "markdown",
      "source": [
        "**Create a Derivative Function**"
      ],
      "metadata": {
        "id": "Swt3QiQoTuWp"
      }
    },
    {
      "cell_type": "code",
      "source": [
        "def derivative_sigmoid(x):\n",
        "  return x*(1-x)"
      ],
      "metadata": {
        "id": "m4OncPzATpsm"
      },
      "execution_count": 8,
      "outputs": []
    },
    {
      "cell_type": "markdown",
      "source": [
        "**Initialize the Variables**"
      ],
      "metadata": {
        "id": "xxdZvYsRUGDm"
      }
    },
    {
      "cell_type": "code",
      "source": [
        "epoch=5000\n",
        "lr=0.1\n",
        "input_neurons=x.shape[1]\n",
        "hidden_neurons=3\n",
        "output_neurons=1"
      ],
      "metadata": {
        "id": "kBqSq5dQULkJ"
      },
      "execution_count": 9,
      "outputs": []
    },
    {
      "cell_type": "markdown",
      "source": [
        "**Initialize Weights and Bias**"
      ],
      "metadata": {
        "id": "6U9F4NeIT_sK"
      }
    },
    {
      "cell_type": "code",
      "source": [
        "wh=np.random.uniform(size=(input_neurons,hidden_neurons))\n",
        "bh=np.random.uniform(size=(1,hidden_neurons))\n",
        "wo=np.random.uniform(size=(hidden_neurons,output_neurons))\n",
        "bo=np.random.uniform(size=(1,output_neurons))"
      ],
      "metadata": {
        "id": "3r60y0o-T8sM"
      },
      "execution_count": 10,
      "outputs": []
    },
    {
      "cell_type": "markdown",
      "source": [
        "**Training the Model**"
      ],
      "metadata": {
        "id": "cA7A6WrGVVJe"
      }
    },
    {
      "cell_type": "code",
      "source": [
        "for i in range(epoch):\n",
        "    # Forward Propagation\n",
        "    # Hidden Layer\n",
        "    hidden_layer_input = np.dot(x, wh) + bh\n",
        "    hidden_layer_activation = sigmoid(hidden_layer_input)\n",
        "\n",
        "    # Output Layer\n",
        "    output_layer_input = np.dot(hidden_layer_activation, wo) + bo\n",
        "    predicted_output = sigmoid(output_layer_input)\n",
        "\n",
        "    # Backward Propagation\n",
        "    # Calculate Error\n",
        "    error = y - predicted_output\n",
        "\n",
        "    # Calculate gradients at output layer\n",
        "    slope_output_layer = derivative_sigmoid(predicted_output)\n",
        "    delta_output = error * slope_output_layer\n",
        "\n",
        "    # Calculate gradients at hidden layer\n",
        "    error_hidden_layer = delta_output.dot(wo.T)\n",
        "    slope_hidden_layer = derivative_sigmoid(hidden_layer_activation)\n",
        "    delta_hidden = error_hidden_layer * slope_hidden_layer\n",
        "\n",
        "    # Update Weights and Biases\n",
        "    wo += hidden_layer_activation.T.dot(delta_output) * lr\n",
        "    bo += np.sum(delta_output, axis=0, keepdims=True) * lr\n",
        "    wh += x.T.dot(delta_hidden) * lr\n",
        "    bh += np.sum(delta_hidden, axis=0, keepdims=True) * lr"
      ],
      "metadata": {
        "id": "et7U_acJVKDI"
      },
      "execution_count": 11,
      "outputs": []
    },
    {
      "cell_type": "code",
      "source": [
        "predicted_output"
      ],
      "metadata": {
        "colab": {
          "base_uri": "https://localhost:8080/"
        },
        "id": "8F6uzKj2XRnl",
        "outputId": "346f79ee-af50-411c-a91f-4e0c33021c6b"
      },
      "execution_count": 13,
      "outputs": [
        {
          "output_type": "execute_result",
          "data": {
            "text/plain": [
              "array([[0.9519746 ],\n",
              "       [0.06529529],\n",
              "       [0.96133431]])"
            ]
          },
          "metadata": {},
          "execution_count": 13
        }
      ]
    },
    {
      "cell_type": "code",
      "source": [],
      "metadata": {
        "id": "-RgaRK3MYKVQ"
      },
      "execution_count": null,
      "outputs": []
    }
  ]
}