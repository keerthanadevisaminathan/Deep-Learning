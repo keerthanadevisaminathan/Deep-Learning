{
  "nbformat": 4,
  "nbformat_minor": 0,
  "metadata": {
    "colab": {
      "provenance": [],
      "authorship_tag": "ABX9TyPLmM6NsrLfeMnEaPPx9z58",
      "include_colab_link": true
    },
    "kernelspec": {
      "name": "python3",
      "display_name": "Python 3"
    },
    "language_info": {
      "name": "python"
    }
  },
  "cells": [
    {
      "cell_type": "markdown",
      "metadata": {
        "id": "view-in-github",
        "colab_type": "text"
      },
      "source": [
        "<a href=\"https://colab.research.google.com/github/keerthanadevisaminathan/Deep-Learning/blob/main/Iris_Neural_Network.ipynb\" target=\"_parent\"><img src=\"https://colab.research.google.com/assets/colab-badge.svg\" alt=\"Open In Colab\"/></a>"
      ]
    },
    {
      "cell_type": "code",
      "execution_count": null,
      "metadata": {
        "colab": {
          "base_uri": "https://localhost:8080/"
        },
        "id": "kYD3eso1aA6M",
        "outputId": "503496b9-52a3-4321-ae26-ff4babe51317"
      },
      "outputs": [
        {
          "output_type": "stream",
          "name": "stdout",
          "text": [
            "Epoch 1/50\n"
          ]
        },
        {
          "output_type": "stream",
          "name": "stderr",
          "text": [
            "/usr/local/lib/python3.10/dist-packages/sklearn/preprocessing/_encoders.py:868: FutureWarning: `sparse` was renamed to `sparse_output` in version 1.2 and will be removed in 1.4. `sparse_output` is ignored unless you leave `sparse` to its default value.\n",
            "  warnings.warn(\n"
          ]
        },
        {
          "output_type": "stream",
          "name": "stdout",
          "text": [
            "4/4 [==============================] - 1s 135ms/step - loss: 1.1931 - accuracy: 0.4083 - val_loss: 1.2512 - val_accuracy: 0.2667\n",
            "Epoch 2/50\n",
            "4/4 [==============================] - 0s 24ms/step - loss: 1.1646 - accuracy: 0.4083 - val_loss: 1.2194 - val_accuracy: 0.3000\n",
            "Epoch 3/50\n",
            "4/4 [==============================] - 0s 23ms/step - loss: 1.1375 - accuracy: 0.4167 - val_loss: 1.1878 - val_accuracy: 0.3000\n",
            "Epoch 4/50\n",
            "4/4 [==============================] - 0s 24ms/step - loss: 1.1107 - accuracy: 0.4250 - val_loss: 1.1575 - val_accuracy: 0.3333\n",
            "Epoch 5/50\n",
            "4/4 [==============================] - 0s 24ms/step - loss: 1.0860 - accuracy: 0.4250 - val_loss: 1.1281 - val_accuracy: 0.3333\n",
            "Epoch 6/50\n",
            "4/4 [==============================] - 0s 30ms/step - loss: 1.0616 - accuracy: 0.4333 - val_loss: 1.0998 - val_accuracy: 0.3333\n",
            "Epoch 7/50\n",
            "4/4 [==============================] - 0s 20ms/step - loss: 1.0381 - accuracy: 0.4500 - val_loss: 1.0729 - val_accuracy: 0.3667\n",
            "Epoch 8/50\n",
            "4/4 [==============================] - 0s 25ms/step - loss: 1.0153 - accuracy: 0.4417 - val_loss: 1.0473 - val_accuracy: 0.3667\n",
            "Epoch 9/50\n",
            "4/4 [==============================] - 0s 32ms/step - loss: 0.9949 - accuracy: 0.4417 - val_loss: 1.0220 - val_accuracy: 0.3667\n",
            "Epoch 10/50\n",
            "4/4 [==============================] - 0s 30ms/step - loss: 0.9745 - accuracy: 0.4583 - val_loss: 0.9982 - val_accuracy: 0.4000\n",
            "Epoch 11/50\n",
            "4/4 [==============================] - 0s 44ms/step - loss: 0.9551 - accuracy: 0.4500 - val_loss: 0.9752 - val_accuracy: 0.4333\n",
            "Epoch 12/50\n",
            "4/4 [==============================] - 0s 29ms/step - loss: 0.9365 - accuracy: 0.4500 - val_loss: 0.9532 - val_accuracy: 0.4667\n",
            "Epoch 13/50\n",
            "4/4 [==============================] - 0s 20ms/step - loss: 0.9190 - accuracy: 0.4750 - val_loss: 0.9326 - val_accuracy: 0.4667\n",
            "Epoch 14/50\n",
            "4/4 [==============================] - 0s 12ms/step - loss: 0.9021 - accuracy: 0.4917 - val_loss: 0.9126 - val_accuracy: 0.5333\n",
            "Epoch 15/50\n",
            "4/4 [==============================] - 0s 14ms/step - loss: 0.8856 - accuracy: 0.5333 - val_loss: 0.8939 - val_accuracy: 0.5000\n",
            "Epoch 16/50\n",
            "4/4 [==============================] - 0s 13ms/step - loss: 0.8708 - accuracy: 0.5583 - val_loss: 0.8760 - val_accuracy: 0.5000\n",
            "Epoch 17/50\n",
            "4/4 [==============================] - 0s 12ms/step - loss: 0.8561 - accuracy: 0.5583 - val_loss: 0.8587 - val_accuracy: 0.5333\n",
            "Epoch 18/50\n",
            "4/4 [==============================] - 0s 12ms/step - loss: 0.8424 - accuracy: 0.5583 - val_loss: 0.8419 - val_accuracy: 0.5667\n",
            "Epoch 19/50\n",
            "4/4 [==============================] - 0s 13ms/step - loss: 0.8290 - accuracy: 0.5750 - val_loss: 0.8259 - val_accuracy: 0.6000\n",
            "Epoch 20/50\n",
            "4/4 [==============================] - 0s 15ms/step - loss: 0.8164 - accuracy: 0.6083 - val_loss: 0.8106 - val_accuracy: 0.6000\n",
            "Epoch 21/50\n",
            "4/4 [==============================] - 0s 12ms/step - loss: 0.8042 - accuracy: 0.6333 - val_loss: 0.7960 - val_accuracy: 0.6000\n",
            "Epoch 22/50\n",
            "4/4 [==============================] - 0s 12ms/step - loss: 0.7931 - accuracy: 0.6333 - val_loss: 0.7813 - val_accuracy: 0.6000\n",
            "Epoch 23/50\n",
            "4/4 [==============================] - 0s 12ms/step - loss: 0.7809 - accuracy: 0.6667 - val_loss: 0.7678 - val_accuracy: 0.6000\n",
            "Epoch 24/50\n",
            "4/4 [==============================] - 0s 12ms/step - loss: 0.7701 - accuracy: 0.6667 - val_loss: 0.7549 - val_accuracy: 0.6333\n",
            "Epoch 25/50\n",
            "4/4 [==============================] - 0s 19ms/step - loss: 0.7598 - accuracy: 0.6833 - val_loss: 0.7422 - val_accuracy: 0.6667\n",
            "Epoch 26/50\n",
            "4/4 [==============================] - 0s 21ms/step - loss: 0.7500 - accuracy: 0.6833 - val_loss: 0.7298 - val_accuracy: 0.7333\n",
            "Epoch 27/50\n",
            "4/4 [==============================] - 0s 18ms/step - loss: 0.7406 - accuracy: 0.7000 - val_loss: 0.7177 - val_accuracy: 0.7667\n",
            "Epoch 28/50\n",
            "4/4 [==============================] - 0s 13ms/step - loss: 0.7305 - accuracy: 0.7167 - val_loss: 0.7065 - val_accuracy: 0.7667\n",
            "Epoch 29/50\n",
            "4/4 [==============================] - 0s 12ms/step - loss: 0.7216 - accuracy: 0.7167 - val_loss: 0.6953 - val_accuracy: 0.8000\n",
            "Epoch 30/50\n",
            "4/4 [==============================] - 0s 13ms/step - loss: 0.7125 - accuracy: 0.7167 - val_loss: 0.6845 - val_accuracy: 0.8000\n",
            "Epoch 31/50\n",
            "4/4 [==============================] - 0s 12ms/step - loss: 0.7038 - accuracy: 0.7250 - val_loss: 0.6739 - val_accuracy: 0.8333\n",
            "Epoch 32/50\n",
            "4/4 [==============================] - 0s 13ms/step - loss: 0.6952 - accuracy: 0.7417 - val_loss: 0.6638 - val_accuracy: 0.8333\n",
            "Epoch 33/50\n",
            "4/4 [==============================] - 0s 12ms/step - loss: 0.6874 - accuracy: 0.7500 - val_loss: 0.6537 - val_accuracy: 0.8333\n",
            "Epoch 34/50\n",
            "4/4 [==============================] - 0s 12ms/step - loss: 0.6795 - accuracy: 0.7500 - val_loss: 0.6437 - val_accuracy: 0.8333\n",
            "Epoch 35/50\n",
            "4/4 [==============================] - 0s 19ms/step - loss: 0.6717 - accuracy: 0.7500 - val_loss: 0.6342 - val_accuracy: 0.8333\n",
            "Epoch 36/50\n",
            "4/4 [==============================] - 0s 12ms/step - loss: 0.6641 - accuracy: 0.7500 - val_loss: 0.6249 - val_accuracy: 0.8333\n",
            "Epoch 37/50\n",
            "4/4 [==============================] - 0s 13ms/step - loss: 0.6570 - accuracy: 0.7500 - val_loss: 0.6156 - val_accuracy: 0.8333\n",
            "Epoch 38/50\n",
            "4/4 [==============================] - 0s 12ms/step - loss: 0.6499 - accuracy: 0.7583 - val_loss: 0.6068 - val_accuracy: 0.8333\n",
            "Epoch 39/50\n",
            "4/4 [==============================] - 0s 13ms/step - loss: 0.6431 - accuracy: 0.7667 - val_loss: 0.5984 - val_accuracy: 0.8333\n",
            "Epoch 40/50\n",
            "4/4 [==============================] - 0s 13ms/step - loss: 0.6363 - accuracy: 0.7667 - val_loss: 0.5901 - val_accuracy: 0.8333\n",
            "Epoch 41/50\n",
            "4/4 [==============================] - 0s 12ms/step - loss: 0.6300 - accuracy: 0.7583 - val_loss: 0.5820 - val_accuracy: 0.8333\n",
            "Epoch 42/50\n",
            "4/4 [==============================] - 0s 18ms/step - loss: 0.6236 - accuracy: 0.7583 - val_loss: 0.5744 - val_accuracy: 0.8333\n",
            "Epoch 43/50\n",
            "4/4 [==============================] - 0s 12ms/step - loss: 0.6175 - accuracy: 0.7583 - val_loss: 0.5668 - val_accuracy: 0.9000\n",
            "Epoch 44/50\n",
            "4/4 [==============================] - 0s 13ms/step - loss: 0.6115 - accuracy: 0.7583 - val_loss: 0.5594 - val_accuracy: 0.9000\n",
            "Epoch 45/50\n",
            "4/4 [==============================] - 0s 13ms/step - loss: 0.6056 - accuracy: 0.7667 - val_loss: 0.5523 - val_accuracy: 0.9000\n",
            "Epoch 46/50\n",
            "4/4 [==============================] - 0s 15ms/step - loss: 0.6001 - accuracy: 0.7750 - val_loss: 0.5450 - val_accuracy: 0.9000\n",
            "Epoch 47/50\n",
            "4/4 [==============================] - 0s 12ms/step - loss: 0.5944 - accuracy: 0.7750 - val_loss: 0.5379 - val_accuracy: 0.9000\n",
            "Epoch 48/50\n",
            "4/4 [==============================] - 0s 12ms/step - loss: 0.5889 - accuracy: 0.7833 - val_loss: 0.5312 - val_accuracy: 0.9000\n",
            "Epoch 49/50\n",
            "4/4 [==============================] - 0s 18ms/step - loss: 0.5833 - accuracy: 0.7833 - val_loss: 0.5246 - val_accuracy: 0.9000\n",
            "Epoch 50/50\n",
            "4/4 [==============================] - 0s 13ms/step - loss: 0.5782 - accuracy: 0.7833 - val_loss: 0.5182 - val_accuracy: 0.9000\n",
            "1/1 [==============================] - 0s 28ms/step - loss: 0.5182 - accuracy: 0.9000\n",
            "Test Loss: 0.5182, Test Accuracy: 0.9000\n"
          ]
        }
      ],
      "source": [
        "# Import necessary libraries\n",
        "import numpy as np\n",
        "import tensorflow as tf\n",
        "from sklearn import datasets\n",
        "from sklearn.model_selection import train_test_split\n",
        "from sklearn.preprocessing import StandardScaler, OneHotEncoder\n",
        "\n",
        "# Load the Iris dataset\n",
        "iris = datasets.load_iris()\n",
        "X = iris.data\n",
        "y = iris.target\n",
        "\n",
        "# Split the dataset into training and testing sets\n",
        "X_train, X_test, y_train, y_test = train_test_split(X, y, test_size=0.2, random_state=42)\n",
        "\n",
        "# Standardize the features\n",
        "scaler = StandardScaler()\n",
        "X_train = scaler.fit_transform(X_train)\n",
        "X_test = scaler.transform(X_test)\n",
        "\n",
        "# One-hot encode the target variable\n",
        "onehot_encoder = OneHotEncoder(sparse=False, categories='auto')\n",
        "y_train_encoded = onehot_encoder.fit_transform(y_train.reshape(-1, 1))\n",
        "y_test_encoded = onehot_encoder.transform(y_test.reshape(-1, 1))\n",
        "\n",
        "# Build a simple neural network model using TensorFlow/Keras\n",
        "model = tf.keras.Sequential([\n",
        "    tf.keras.layers.Dense(10, input_dim=4, activation='relu'),\n",
        "    tf.keras.layers.Dense(3, activation='softmax')\n",
        "])\n",
        "\n",
        "# Compile the model\n",
        "model.compile(loss='categorical_crossentropy', optimizer='adam', metrics=['accuracy'])\n",
        "\n",
        "# Train the model\n",
        "model.fit(X_train, y_train_encoded, epochs=50, batch_size=32, validation_data=(X_test, y_test_encoded))\n",
        "\n",
        "# Evaluate the model on the test set\n",
        "loss, accuracy = model.evaluate(X_test, y_test_encoded)\n",
        "print(f\"Test Loss: {loss:.4f}, Test Accuracy: {accuracy:.4f}\")\n"
      ]
    },
    {
      "cell_type": "code",
      "source": [],
      "metadata": {
        "id": "CH0qEke4aCqo"
      },
      "execution_count": null,
      "outputs": []
    }
  ]
}